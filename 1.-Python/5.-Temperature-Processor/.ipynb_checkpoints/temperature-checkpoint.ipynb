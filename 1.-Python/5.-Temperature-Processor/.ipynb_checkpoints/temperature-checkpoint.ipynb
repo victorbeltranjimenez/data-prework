{
 "cells": [
  {
   "cell_type": "markdown",
   "metadata": {},
   "source": [
    "<img src=\"https://bit.ly/2VnXWr2\" width=\"100\" align=\"left\">"
   ]
  },
  {
   "cell_type": "markdown",
   "metadata": {},
   "source": [
    "# Temperature Sensor\n",
    "\n",
    "There is a temperature sensor in the processor of your company's server. The company wants to analyze the data provided by the sensor to decide if they should change the cooling system for a better one. As changing the cooling system is expensive and you are an excellent data analyst, you can't make a decision without basis.\n",
    "\n",
    "## Tools\n",
    "You don't necessarily need to use all the tools. Maybe you opt to use some of them or completely different ones, they are given to help you shape the exercise. Programming exercises can be solved in many different ways.\n",
    "1. Data structures: **lists**\n",
    "2. Loops: **list comprehension**\n",
    "3. Functions: **min, max, print, len**\n",
    "4. Conditional statements: **if-elif-else**\n",
    "\n",
    "## Tasks\n",
    "The temperatures measured throughout the 24 hours of a day are:"
   ]
  },
  {
   "cell_type": "code",
   "execution_count": 12,
   "metadata": {},
   "outputs": [],
   "source": [
    "temperatures_C = [33, 66, 65, 0, 59, 60, 62, 64, 70, 76, 80, 81, 80, 83, 90, 79, 61, 53, 50, 49, 53, 48, 45, 39]"
   ]
  },
  {
   "cell_type": "markdown",
   "metadata": {},
   "source": [
    "The first element of the list is the temperature at 12am, the second element is the temperature at 1am, and so on. \n",
    "\n",
    "The company has decided that if one of the following events occurs, then the cooling system needs to be replaced for a new one to avoid damaging the processor.\n",
    "* More than 4 temperatures are greater than or equal to 70ºC.\n",
    "* Any temperature is above 80ºC.\n",
    "* The average temperature exceeds 65ºC.\n",
    "\n",
    "Follow the steps so that you can make the decision.\n",
    "\n",
    "#### 1. Find the minimum temperature of the day and store it in a variable."
   ]
  },
  {
   "cell_type": "code",
   "execution_count": 13,
   "metadata": {},
   "outputs": [
    {
     "name": "stdout",
     "output_type": "stream",
     "text": [
      "0\n"
     ]
    }
   ],
   "source": [
    "min_temp = min(temperatures_C)\n",
    "print(min_temp)"
   ]
  },
  {
   "cell_type": "markdown",
   "metadata": {},
   "source": [
    "#### 2. Find the maximum temperature of the day and store it in a variable."
   ]
  },
  {
   "cell_type": "code",
   "execution_count": 14,
   "metadata": {},
   "outputs": [
    {
     "name": "stdout",
     "output_type": "stream",
     "text": [
      "90\n"
     ]
    }
   ],
   "source": [
    "max_temp = max(temperatures_C)\n",
    "print(max_temp)"
   ]
  },
  {
   "cell_type": "markdown",
   "metadata": {},
   "source": [
    "#### 3. Create a list with the temperatures that are greater than or equal to 70ºC. Store it in a variable."
   ]
  },
  {
   "cell_type": "code",
   "execution_count": 15,
   "metadata": {},
   "outputs": [
    {
     "name": "stdout",
     "output_type": "stream",
     "text": [
      "[70, 76, 80, 81, 80, 83, 90, 79]\n"
     ]
    }
   ],
   "source": [
    "plus_70_temp = []\n",
    "for x in temperatures_C:\n",
    "    if x >= 70:\n",
    "        plus_70_temp.append(x)\n",
    "print(plus_70_temp)"
   ]
  },
  {
   "cell_type": "markdown",
   "metadata": {},
   "source": [
    "#### 4. Find the average temperature of the day and store it in a variable."
   ]
  },
  {
   "cell_type": "code",
   "execution_count": 16,
   "metadata": {},
   "outputs": [
    {
     "name": "stdout",
     "output_type": "stream",
     "text": [
      "average temp  60.25\n"
     ]
    }
   ],
   "source": [
    "av_temp = sum(temperatures_C)/len(temperatures_C)\n",
    "\n",
    "print(\"average temp \",av_temp)"
   ]
  },
  {
   "cell_type": "markdown",
   "metadata": {},
   "source": [
    "#### 5. Imagine that there was a sensor failure at 3am and the data for that specific hour was not recorded. How would you estimate the missing value? Replace the current value of the list at 3am for an estimation. "
   ]
  },
  {
   "cell_type": "code",
   "execution_count": 17,
   "metadata": {},
   "outputs": [
    {
     "name": "stdout",
     "output_type": "stream",
     "text": [
      "3am for an estimation 53.69333333333333\n"
     ]
    }
   ],
   "source": [
    "horas = (list(range(12, 24)))+(list(range(0, 12)))\n",
    "horas_temp = dict(zip(horas, temperatures_C))\n",
    "\n",
    "import random\n",
    "del horas_temp[3]\n",
    "muestras = []\n",
    "medias_muestras = []\n",
    "media_de_medias = []\n",
    "def crear_muestras(diccionario):\n",
    "    muestras = []\n",
    "\n",
    "\n",
    "    for value in range(1, 6):\n",
    "        muestras.append(random.choice(diccionario))\n",
    "        medias_muestras.append(sum(muestras)/len(muestras))\n",
    "\n",
    "\n",
    "crear_muestras(horas_temp)\n",
    "media_de_medias=sum(medias_muestras)/len(medias_muestras)\n",
    "\n",
    "horas_temp[3]=media_de_medias\n",
    "\n",
    "print(\"3am for an estimation\",horas_temp[3])\n"
   ]
  },
  {
   "cell_type": "markdown",
   "metadata": {},
   "source": [
    "#### 6. Bonus: the maintenance staff is from the United States and does not understand the international metric system. Help them by converting the temperatures from Celsius to Fahrenheit.\n",
    "To know more about temperature conversion check this [link](https://en.wikipedia.org/wiki/Conversion_of_units_of_temperature).\n",
    "\n",
    "**Formula**: \n",
    "\n",
    "$F = 1.8 * C + 32$"
   ]
  },
  {
   "cell_type": "code",
   "execution_count": 18,
   "metadata": {},
   "outputs": [
    {
     "name": "stdout",
     "output_type": "stream",
     "text": [
      "[91.4, 150.8, 149.0, 32.0, 138.2, 140.0, 143.60000000000002, 147.2, 158.0, 168.8, 176.0, 177.8, 176.0, 181.4, 194.0, 174.20000000000002, 141.8, 127.4, 122.0, 120.2, 127.4, 118.4, 113.0, 102.2]\n"
     ]
    }
   ],
   "source": [
    "temperatures_F = []\n",
    "\n",
    "def c_to_f(lista):\n",
    "    for x in lista:\n",
    "        temperatures_F.append((x*1.8)+32)\n",
    "c_to_f(temperatures_C)\n",
    "print(temperatures_F)"
   ]
  },
  {
   "cell_type": "markdown",
   "metadata": {},
   "source": [
    "#### 7. Make a decision!\n",
    "Now it's time to make a decision taking into account what you have seen until now. \n",
    "\n",
    "Remember that if one of the following events occurs, then the cooling system needs to be replaced for a new one to avoid damaging the processor.\n",
    "* More than 4 temperatures are greater than or equal to 70ºC.\n",
    "* Any temperature is above 80ºC.\n",
    "* The average temperature exceeds 65ºC.\n",
    "\n",
    "#### To make your decision, check if any of the three conditions above is met. You might need to use some of the variables you created in steps 1 to 6. Print a message to show if the cooling system needs to be changed or not."
   ]
  },
  {
   "cell_type": "code",
   "execution_count": 19,
   "metadata": {},
   "outputs": [
    {
     "name": "stdout",
     "output_type": "stream",
     "text": [
      "Es necesario cambiar el procesador\n"
     ]
    }
   ],
   "source": [
    "def change_processor(lista):\n",
    "    cambio_procesador = 0\n",
    "    if len(plus_70_temp) >= 4:\n",
    "        cambio_procesador += 1\n",
    "    if x in plus_70_temp:\n",
    "        if x >= 80:\n",
    "            cambio_procesador += 1\n",
    "    if av_temp > 65:\n",
    "        cambio_procesador += 1\n",
    "    if cambio_procesador == 0:\n",
    "        print(\"No es necesario cambiar el procesador\")\n",
    "    else:\n",
    "        print(\"Es necesario cambiar el procesador\")\n",
    "    \n",
    "change_processor(horas_temp)"
   ]
  },
  {
   "cell_type": "markdown",
   "metadata": {},
   "source": [
    "## Bonus\n",
    "\n",
    "The company has decided that the decision you made is not valid. They want you to analyze the data again but this time, the conditions that need to be met in order to change the cooling system are different.\n",
    "\n",
    "This time, if one of the following events occurs, then the cooling system needs to be replaced:\n",
    "* The temperature is greater than 70ºC during more than 4 consecutive hours.\n",
    "* Any temperature is above 80ºC.\n",
    "* The average temperature exceeds 65ºC.\n",
    "\n",
    "Follow the steps so that you can make the decision.\n",
    "\n",
    "#### 1. Create a list with the hours where the temperature is greater than 70ºC. Store it in a variable."
   ]
  },
  {
   "cell_type": "code",
   "execution_count": 20,
   "metadata": {},
   "outputs": [],
   "source": [
    "plus_70_temp_hours = []\n",
    "for key, value in horas_temp.items():\n",
    "    if value >= 70:\n",
    "        plus_70_temp_hours.append(key)\n",
    "\n"
   ]
  },
  {
   "cell_type": "markdown",
   "metadata": {},
   "source": [
    "#### 2. Check if the list you created in step 1 has more than 4 consecutive hours. "
   ]
  },
  {
   "cell_type": "code",
   "execution_count": 21,
   "metadata": {},
   "outputs": [
    {
     "name": "stdout",
     "output_type": "stream",
     "text": [
      "4\n"
     ]
    }
   ],
   "source": [
    "numSet = set(plus_70_temp_hours)\n",
    "longest = 0\n",
    "for n in plus_70_temp_hours:\n",
    "    if (n-1 not in numSet):\n",
    "        length = 0\n",
    "        while (n + length) in numSet:\n",
    "            length += 1\n",
    "        longest = max(length, longest)\n",
    "print(longest)   \n",
    "\n"
   ]
  },
  {
   "cell_type": "markdown",
   "metadata": {},
   "source": [
    "#### 3. Make the decision!\n",
    "To make your decision, check if any of the three conditions is met. Print a message to show if the cooling system needs to be changed or not."
   ]
  },
  {
   "cell_type": "code",
   "execution_count": null,
   "metadata": {},
   "outputs": [],
   "source": [
    "def change_processor_plus(horas_temp):\n",
    "    cambio_procesador = 0\n",
    "    if longest > 4:\n",
    "        cambio_procesador += 1\n",
    "    if x in plus_70_temp:\n",
    "        if x > 80:\n",
    "            cambio_procesador += 1\n",
    "    if av_temp > 65:\n",
    "        cambio_procesador += 1\n",
    "    if cambio_procesador == 0:\n",
    "        print(\"No es necesario cambiar el procesador\")\n",
    "    else:\n",
    "        print(\"Es necesario cambiar el procesador\")\n",
    "\n",
    "change_processor_plus(horas_temp)"
   ]
  },
  {
   "cell_type": "markdown",
   "metadata": {},
   "source": [
    "#### 4. Find the average value of the temperature lists (ºC and ºF). What is the relation between both average values?"
   ]
  },
  {
   "cell_type": "code",
   "execution_count": 22,
   "metadata": {},
   "outputs": [],
   "source": [
    "avg_temperatures_C = sum(temperatures_C)/len(temperatures_C)\n",
    "avg_temperatures_F = sum(temperatures_F)/len(temperatures_F)"
   ]
  },
  {
   "cell_type": "markdown",
   "metadata": {},
   "source": [
    "#### 5. Find the standard deviation of the temperature lists (ºC and ºF). What is the relation between both standard deviations?"
   ]
  },
  {
   "cell_type": "code",
   "execution_count": 23,
   "metadata": {},
   "outputs": [
    {
     "name": "stdout",
     "output_type": "stream",
     "text": [
      "standard deviation ºC 63.26136261573884\n",
      "standard deviation ºF 144.67646664195252\n"
     ]
    }
   ],
   "source": [
    "def std_dev_C():\n",
    "    restarC = list()\n",
    "    elevarC = list()\n",
    "    for i in temperatures_C:\n",
    "        x = i - avg_temperatures_C\n",
    "        restarC.append(x)\n",
    "    for i in temperatures_C:\n",
    "        x = i**2\n",
    "        elevarC.append(x)\n",
    "    return((sum(elevarC)/len(elevarC))**0.5)\n",
    "\n",
    "\n",
    "def std_dev_F():\n",
    "    restarF = list()\n",
    "    elevarF = list()\n",
    "    for i in temperatures_F:\n",
    "        x = i - avg_temperatures_F\n",
    "        restarF.append(x)\n",
    "    for i in temperatures_F:\n",
    "        x = i**2\n",
    "        elevarF.append(x)\n",
    "    return((sum(elevarF)/len(elevarF))**0.5)\n",
    "\n",
    "\n",
    "print(\"standard deviation ºC\", std_dev_C())\n",
    "print(\"standard deviation ºF\", std_dev_F())"
   ]
  },
  {
   "cell_type": "code",
   "execution_count": null,
   "metadata": {},
   "outputs": [],
   "source": []
  }
 ],
 "metadata": {
  "kernelspec": {
   "display_name": "Python 3",
   "language": "python",
   "name": "python3"
  },
  "language_info": {
   "codemirror_mode": {
    "name": "ipython",
    "version": 3
   },
   "file_extension": ".py",
   "mimetype": "text/x-python",
   "name": "python",
   "nbconvert_exporter": "python",
   "pygments_lexer": "ipython3",
   "version": "3.8.8"
  }
 },
 "nbformat": 4,
 "nbformat_minor": 2
}
